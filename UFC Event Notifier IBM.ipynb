{
 "cells": [
  {
   "cell_type": "code",
   "execution_count": 1,
   "metadata": {},
   "outputs": [
    {
     "name": "stdout",
     "output_type": "stream",
     "text": [
      "Requirement already satisfied: pandas in /opt/conda/envs/DSX-Python35/lib/python3.5/site-packages (0.21.0)\n",
      "Requirement already satisfied: python-dateutil>=2 in /opt/conda/envs/DSX-Python35/lib/python3.5/site-packages (from pandas) (2.6.1)\n",
      "Requirement already satisfied: pytz>=2011k in /opt/conda/envs/DSX-Python35/lib/python3.5/site-packages (from pandas) (2018.3)\n",
      "Requirement already satisfied: numpy>=1.9.0 in /opt/conda/envs/DSX-Python35/lib/python3.5/site-packages (from pandas) (1.13.3)\n",
      "Requirement already satisfied: six>=1.5 in /opt/conda/envs/DSX-Python35/lib/python3.5/site-packages (from python-dateutil>=2->pandas) (1.11.0)\n",
      "\u001b[31mtensorflow 1.3.0 requires tensorflow-tensorboard<0.2.0,>=0.1.0, which is not installed.\u001b[0m\n",
      "Requirement already satisfied: beautifulsoup4 in /opt/conda/envs/DSX-Python35/lib/python3.5/site-packages (4.6.0)\n",
      "\u001b[31mtensorflow 1.3.0 requires tensorflow-tensorboard<0.2.0,>=0.1.0, which is not installed.\u001b[0m\n",
      "Requirement already satisfied: twilio in /opt/conda/envs/DSX-Python35/lib/python3.5/site-packages (6.27.0)\n",
      "Requirement already satisfied: PyJWT>=1.4.2 in /opt/conda/envs/DSX-Python35/lib/python3.5/site-packages (from twilio) (1.7.1)\n",
      "Requirement already satisfied: pytz in /opt/conda/envs/DSX-Python35/lib/python3.5/site-packages (from twilio) (2018.3)\n",
      "Requirement already satisfied: six in /opt/conda/envs/DSX-Python35/lib/python3.5/site-packages (from twilio) (1.11.0)\n",
      "Requirement already satisfied: pysocks; python_version >= \"3.0\" in /opt/conda/envs/DSX-Python35/lib/python3.5/site-packages (from twilio) (1.6.7)\n",
      "Requirement already satisfied: requests>=2.0.0; python_version >= \"3.0\" in /opt/conda/envs/DSX-Python35/lib/python3.5/site-packages (from twilio) (2.18.4)\n",
      "Requirement already satisfied: chardet<3.1.0,>=3.0.2 in /opt/conda/envs/DSX-Python35/lib/python3.5/site-packages (from requests>=2.0.0; python_version >= \"3.0\"->twilio) (3.0.4)\n",
      "Requirement already satisfied: idna<2.7,>=2.5 in /opt/conda/envs/DSX-Python35/lib/python3.5/site-packages (from requests>=2.0.0; python_version >= \"3.0\"->twilio) (2.6)\n",
      "Requirement already satisfied: urllib3<1.23,>=1.21.1 in /opt/conda/envs/DSX-Python35/lib/python3.5/site-packages (from requests>=2.0.0; python_version >= \"3.0\"->twilio) (1.22)\n",
      "Requirement already satisfied: certifi>=2017.4.17 in /opt/conda/envs/DSX-Python35/lib/python3.5/site-packages (from requests>=2.0.0; python_version >= \"3.0\"->twilio) (2019.3.9)\n",
      "\u001b[31mtensorflow 1.3.0 requires tensorflow-tensorboard<0.2.0,>=0.1.0, which is not installed.\u001b[0m\n"
     ]
    }
   ],
   "source": [
    "!pip install pandas\n",
    "!pip install beautifulsoup4\n",
    "!pip install twilio\n",
    "\n",
    "from twilio.rest import Client\n",
    "import pandas as pd\n",
    "from datetime import datetime\n",
    "import numpy as np\n",
    "import bs4 as bs\n",
    "import requests"
   ]
  },
  {
   "cell_type": "code",
   "execution_count": 2,
   "metadata": {},
   "outputs": [],
   "source": [
    "wiki_link = 'https://en.wikipedia.org'\n",
    "weblink = wiki_link + '/wiki/List_of_UFC_events'\n",
    "response = requests.get(weblink)\n",
    "soup = bs.BeautifulSoup(response.text, 'lxml')\n",
    "table = soup.find_all('table', {'class':'wikitable'})[0]"
   ]
  },
  {
   "cell_type": "code",
   "execution_count": 5,
   "metadata": {},
   "outputs": [],
   "source": [
    "ufc_events = pd.read_html(str(table),header=0)[0]\n",
    "ufc_events.drop(columns='Ref.', inplace=True)\n",
    "ufc_events.rename(columns={'Unnamed: 2':'Venue'}, inplace=True)"
   ]
  },
  {
   "cell_type": "code",
   "execution_count": 7,
   "metadata": {},
   "outputs": [],
   "source": [
    "#add link to fight card\n",
    "\n",
    "links=[]\n",
    "\n",
    "for row in table.find_all('tr')[1:]:\n",
    "    link = row.find_all('td')[0].contents[0]\n",
    "    links.append(wiki_link + link.get('href'))\n",
    "    \n",
    "ufc_events['Fight Card Link'] = links"
   ]
  },
  {
   "cell_type": "code",
   "execution_count": 8,
   "metadata": {},
   "outputs": [],
   "source": [
    "#fix date format\n",
    "\n",
    "for index, row in ufc_events.iterrows():\n",
    "    old_date = row['Date']\n",
    "    new_date = datetime.strptime(old_date, '%b %d, %Y')\n",
    "    row['Date'] = new_date.strftime('%d %b %Y')"
   ]
  },
  {
   "cell_type": "code",
   "execution_count": 9,
   "metadata": {},
   "outputs": [
    {
     "data": {
      "text/html": [
       "<div>\n",
       "<style scoped>\n",
       "    .dataframe tbody tr th:only-of-type {\n",
       "        vertical-align: middle;\n",
       "    }\n",
       "\n",
       "    .dataframe tbody tr th {\n",
       "        vertical-align: top;\n",
       "    }\n",
       "\n",
       "    .dataframe thead th {\n",
       "        text-align: right;\n",
       "    }\n",
       "</style>\n",
       "<table border=\"1\" class=\"dataframe\">\n",
       "  <thead>\n",
       "    <tr style=\"text-align: right;\">\n",
       "      <th></th>\n",
       "      <th>Event</th>\n",
       "      <th>Date</th>\n",
       "      <th>Venue</th>\n",
       "      <th>Location</th>\n",
       "      <th>Fight Card Link</th>\n",
       "    </tr>\n",
       "  </thead>\n",
       "  <tbody>\n",
       "    <tr>\n",
       "      <th>25</th>\n",
       "      <td>UFC Fight Night: Gustafsson vs. Smith</td>\n",
       "      <td>01 Jun 2019</td>\n",
       "      <td>Ericsson Globe</td>\n",
       "      <td>Stockholm, Sweden</td>\n",
       "      <td>https://en.wikipedia.org/wiki/UFC_Fight_Night:...</td>\n",
       "    </tr>\n",
       "  </tbody>\n",
       "</table>\n",
       "</div>"
      ],
      "text/plain": [
       "                                    Event         Date           Venue  \\\n",
       "25  UFC Fight Night: Gustafsson vs. Smith  01 Jun 2019  Ericsson Globe   \n",
       "\n",
       "             Location                                    Fight Card Link  \n",
       "25  Stockholm, Sweden  https://en.wikipedia.org/wiki/UFC_Fight_Night:...  "
      ]
     },
     "execution_count": 9,
     "metadata": {},
     "output_type": "execute_result"
    }
   ],
   "source": [
    "ufc_events.tail(1)"
   ]
  },
  {
   "cell_type": "code",
   "execution_count": 10,
   "metadata": {},
   "outputs": [
    {
     "name": "stdout",
     "output_type": "stream",
     "text": [
      "UFC Fight Night: Gustafsson vs. Smith\n",
      "Stockholm, Sweden\n",
      "01 Jun 2019\n",
      "https://en.wikipedia.org/wiki/UFC_Fight_Night:_Gustafsson_vs._Smith\n"
     ]
    }
   ],
   "source": [
    "next_ufc_event = ufc_events.tail(1)\n",
    "message_body = str(next_ufc_event.iloc[0,0]) + \"\\n\" + str(next_ufc_event.iloc[0,3]) + \"\\n\" + str(next_ufc_event.iloc[0,1]) + \"\\n\" + str(next_ufc_event.iloc[0,4])\n",
    "print(message_body)"
   ]
  },
  {
   "cell_type": "code",
   "execution_count": 11,
   "metadata": {},
   "outputs": [],
   "source": [
    "account_sid = 'ACc2c5c19fd903a29de3492a7f1f110378'\n",
    "auth_token = 'd8d3d91d148c07cfc5c4561b0286131d'\n",
    "client = Client(account_sid, auth_token)\n",
    "\n",
    "ed = 'whatsapp:+447771580615'\n",
    "jay = 'whatsapp:+447749956110'"
   ]
  },
  {
   "cell_type": "code",
   "execution_count": 12,
   "metadata": {},
   "outputs": [],
   "source": [
    "def send_whatsapp(recipient, message_body):\n",
    "    message = client.messages.create(\n",
    "                                  body= message_body,\n",
    "                                  from_= 'whatsapp:+14155238886',\n",
    "                                  to= recipient\n",
    "                              )\n",
    "\n",
    "    print(message.sid)"
   ]
  },
  {
   "cell_type": "code",
   "execution_count": 13,
   "metadata": {},
   "outputs": [
    {
     "name": "stdout",
     "output_type": "stream",
     "text": [
      "SM83f2c01d354246b78ff23638c94df789\n"
     ]
    }
   ],
   "source": [
    "send_whatsapp(jay, message_body)"
   ]
  }
 ],
 "metadata": {
  "kernelspec": {
   "display_name": "Python 3",
   "language": "python",
   "name": "python3"
  },
  "language_info": {
   "codemirror_mode": {
    "name": "ipython",
    "version": 3
   },
   "file_extension": ".py",
   "mimetype": "text/x-python",
   "name": "python",
   "nbconvert_exporter": "python",
   "pygments_lexer": "ipython3",
   "version": "3.7.3"
  }
 },
 "nbformat": 4,
 "nbformat_minor": 2
}
