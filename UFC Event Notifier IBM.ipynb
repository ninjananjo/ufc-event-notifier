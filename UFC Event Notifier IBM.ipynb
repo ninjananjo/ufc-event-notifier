{
    "nbformat_minor": 2, 
    "cells": [
        {
            "source": "!pip install pandas\n!pip install beautifulsoup4\n!pip install twilio\n\nfrom twilio.rest import Client\nimport pandas as pd\nfrom datetime import datetime\nimport numpy as np\nimport bs4 as bs\nimport requests", 
            "cell_type": "code", 
            "metadata": {}, 
            "outputs": [
                {
                    "output_type": "stream", 
                    "name": "stdout", 
                    "text": "Requirement already satisfied: pandas in /opt/conda/envs/DSX-Python35/lib/python3.5/site-packages (0.21.0)\nRequirement already satisfied: python-dateutil>=2 in /opt/conda/envs/DSX-Python35/lib/python3.5/site-packages (from pandas) (2.6.1)\nRequirement already satisfied: pytz>=2011k in /opt/conda/envs/DSX-Python35/lib/python3.5/site-packages (from pandas) (2018.3)\nRequirement already satisfied: numpy>=1.9.0 in /opt/conda/envs/DSX-Python35/lib/python3.5/site-packages (from pandas) (1.13.3)\nRequirement already satisfied: six>=1.5 in /opt/conda/envs/DSX-Python35/lib/python3.5/site-packages (from python-dateutil>=2->pandas) (1.11.0)\n\u001b[31mtensorflow 1.3.0 requires tensorflow-tensorboard<0.2.0,>=0.1.0, which is not installed.\u001b[0m\nRequirement already satisfied: beautifulsoup4 in /opt/conda/envs/DSX-Python35/lib/python3.5/site-packages (4.6.0)\n\u001b[31mtensorflow 1.3.0 requires tensorflow-tensorboard<0.2.0,>=0.1.0, which is not installed.\u001b[0m\nRequirement already satisfied: twilio in /opt/conda/envs/DSX-Python35/lib/python3.5/site-packages (6.27.0)\nRequirement already satisfied: PyJWT>=1.4.2 in /opt/conda/envs/DSX-Python35/lib/python3.5/site-packages (from twilio) (1.7.1)\nRequirement already satisfied: pytz in /opt/conda/envs/DSX-Python35/lib/python3.5/site-packages (from twilio) (2018.3)\nRequirement already satisfied: six in /opt/conda/envs/DSX-Python35/lib/python3.5/site-packages (from twilio) (1.11.0)\nRequirement already satisfied: pysocks; python_version >= \"3.0\" in /opt/conda/envs/DSX-Python35/lib/python3.5/site-packages (from twilio) (1.6.7)\nRequirement already satisfied: requests>=2.0.0; python_version >= \"3.0\" in /opt/conda/envs/DSX-Python35/lib/python3.5/site-packages (from twilio) (2.18.4)\nRequirement already satisfied: chardet<3.1.0,>=3.0.2 in /opt/conda/envs/DSX-Python35/lib/python3.5/site-packages (from requests>=2.0.0; python_version >= \"3.0\"->twilio) (3.0.4)\nRequirement already satisfied: idna<2.7,>=2.5 in /opt/conda/envs/DSX-Python35/lib/python3.5/site-packages (from requests>=2.0.0; python_version >= \"3.0\"->twilio) (2.6)\nRequirement already satisfied: urllib3<1.23,>=1.21.1 in /opt/conda/envs/DSX-Python35/lib/python3.5/site-packages (from requests>=2.0.0; python_version >= \"3.0\"->twilio) (1.22)\nRequirement already satisfied: certifi>=2017.4.17 in /opt/conda/envs/DSX-Python35/lib/python3.5/site-packages (from requests>=2.0.0; python_version >= \"3.0\"->twilio) (2019.3.9)\n\u001b[31mtensorflow 1.3.0 requires tensorflow-tensorboard<0.2.0,>=0.1.0, which is not installed.\u001b[0m\n"
                }
            ], 
            "execution_count": 1
        }, 
        {
            "source": "wiki_link = 'https://en.wikipedia.org'\nweblink = wiki_link + '/wiki/List_of_UFC_events'\nresponse = requests.get(weblink)\nsoup = bs.BeautifulSoup(response.text, 'lxml')\ntable = soup.find_all('table', {'class':'wikitable'})[0]", 
            "cell_type": "code", 
            "metadata": {}, 
            "outputs": [], 
            "execution_count": 2
        }, 
        {
            "source": "ufc_events = pd.read_html(str(table),header=0)[0]\nufc_events.drop(columns='Ref.', inplace=True)\nufc_events.rename(columns={'Unnamed: 2':'Venue'}, inplace=True)", 
            "cell_type": "code", 
            "metadata": {}, 
            "outputs": [], 
            "execution_count": 5
        }, 
        {
            "source": "#add link to fight card\n\nlinks=[]\n\nfor row in table.find_all('tr')[1:]:\n    link = row.find_all('td')[0].contents[0]\n    links.append(wiki_link + link.get('href'))\n    \nufc_events['Fight Card Link'] = links", 
            "cell_type": "code", 
            "metadata": {}, 
            "outputs": [], 
            "execution_count": 7
        }, 
        {
            "source": "#fix date format\n\nfor index, row in ufc_events.iterrows():\n    old_date = row['Date']\n    new_date = datetime.strptime(old_date, '%b %d, %Y')\n    row['Date'] = new_date.strftime('%d %b %Y')", 
            "cell_type": "code", 
            "metadata": {}, 
            "outputs": [], 
            "execution_count": 8
        }, 
        {
            "source": "ufc_events.tail(1)", 
            "cell_type": "code", 
            "metadata": {}, 
            "outputs": [
                {
                    "output_type": "execute_result", 
                    "data": {
                        "text/html": "<div>\n<style scoped>\n    .dataframe tbody tr th:only-of-type {\n        vertical-align: middle;\n    }\n\n    .dataframe tbody tr th {\n        vertical-align: top;\n    }\n\n    .dataframe thead th {\n        text-align: right;\n    }\n</style>\n<table border=\"1\" class=\"dataframe\">\n  <thead>\n    <tr style=\"text-align: right;\">\n      <th></th>\n      <th>Event</th>\n      <th>Date</th>\n      <th>Venue</th>\n      <th>Location</th>\n      <th>Fight Card Link</th>\n    </tr>\n  </thead>\n  <tbody>\n    <tr>\n      <th>25</th>\n      <td>UFC Fight Night: Gustafsson vs. Smith</td>\n      <td>01 Jun 2019</td>\n      <td>Ericsson Globe</td>\n      <td>Stockholm, Sweden</td>\n      <td>https://en.wikipedia.org/wiki/UFC_Fight_Night:...</td>\n    </tr>\n  </tbody>\n</table>\n</div>", 
                        "text/plain": "                                    Event         Date           Venue  \\\n25  UFC Fight Night: Gustafsson vs. Smith  01 Jun 2019  Ericsson Globe   \n\n             Location                                    Fight Card Link  \n25  Stockholm, Sweden  https://en.wikipedia.org/wiki/UFC_Fight_Night:...  "
                    }, 
                    "execution_count": 9, 
                    "metadata": {}
                }
            ], 
            "execution_count": 9
        }, 
        {
            "source": "next_ufc_event = ufc_events.tail(1)\nmessage_body = str(next_ufc_event.iloc[0,0]) + \"\\n\" + str(next_ufc_event.iloc[0,3]) + \"\\n\" + str(next_ufc_event.iloc[0,1]) + \"\\n\" + str(next_ufc_event.iloc[0,4])\nprint(message_body)", 
            "cell_type": "code", 
            "metadata": {}, 
            "outputs": [
                {
                    "output_type": "stream", 
                    "name": "stdout", 
                    "text": "UFC Fight Night: Gustafsson vs. Smith\nStockholm, Sweden\n01 Jun 2019\nhttps://en.wikipedia.org/wiki/UFC_Fight_Night:_Gustafsson_vs._Smith\n"
                }
            ], 
            "execution_count": 10
        }, 
        {
            "source": "account_sid = 'ACc2c5c19fd903a29de3492a7f1f110378'\nauth_token = 'd8d3d91d148c07cfc5c4561b0286131d'\nclient = Client(account_sid, auth_token)\n\ned = 'whatsapp:+447771580615'\njay = 'whatsapp:+447749956110'", 
            "cell_type": "code", 
            "metadata": {}, 
            "outputs": [], 
            "execution_count": 11
        }, 
        {
            "source": "def send_whatsapp(recipient, message_body):\n    message = client.messages.create(\n                                  body= message_body,\n                                  from_= 'whatsapp:+14155238886',\n                                  to= recipient\n                              )\n\n    print(message.sid)", 
            "cell_type": "code", 
            "metadata": {}, 
            "outputs": [], 
            "execution_count": 12
        }, 
        {
            "source": "send_whatsapp(jay, message_body)", 
            "cell_type": "code", 
            "metadata": {}, 
            "outputs": [
                {
                    "output_type": "stream", 
                    "name": "stdout", 
                    "text": "SM83f2c01d354246b78ff23638c94df789\n"
                }
            ], 
            "execution_count": 13
        }
    ], 
    "metadata": {
        "kernelspec": {
            "display_name": "Python 3.5", 
            "name": "python3", 
            "language": "python"
        }, 
        "language_info": {
            "mimetype": "text/x-python", 
            "nbconvert_exporter": "python", 
            "version": "3.5.5", 
            "name": "python", 
            "pygments_lexer": "ipython3", 
            "file_extension": ".py", 
            "codemirror_mode": {
                "version": 3, 
                "name": "ipython"
            }
        }
    }, 
    "nbformat": 4
}