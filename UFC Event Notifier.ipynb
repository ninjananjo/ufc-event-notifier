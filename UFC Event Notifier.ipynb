{
    "cells": [
        {
            "cell_type": "code",
            "execution_count": 1,
            "metadata": {},
            "outputs": [
                {
                    "name": "stdout",
                    "output_type": "stream",
                    "text": "Requirement already satisfied: pandas in /opt/conda/envs/Python36/lib/python3.6/site-packages (0.24.1)\nRequirement already satisfied: numpy>=1.12.0 in /opt/conda/envs/Python36/lib/python3.6/site-packages (from pandas) (1.15.4)\nRequirement already satisfied: python-dateutil>=2.5.0 in /opt/conda/envs/Python36/lib/python3.6/site-packages (from pandas) (2.7.5)\nRequirement already satisfied: pytz>=2011k in /opt/conda/envs/Python36/lib/python3.6/site-packages (from pandas) (2018.9)\nRequirement already satisfied: six>=1.5 in /opt/conda/envs/Python36/lib/python3.6/site-packages (from python-dateutil>=2.5.0->pandas) (1.12.0)\nRequirement already satisfied: beautifulsoup4 in /opt/conda/envs/Python36/lib/python3.6/site-packages (4.7.1)\nRequirement already satisfied: soupsieve>=1.2 in /opt/conda/envs/Python36/lib/python3.6/site-packages (from beautifulsoup4) (1.7.1)\nCollecting twilio\n\u001b[?25l  Downloading https://files.pythonhosted.org/packages/da/a5/eeb5f45cbb240615d37bfeacf57aa54011b47755cf379bfbc4198febeb67/twilio-6.39.0.tar.gz (418kB)\n\u001b[K     |\u2588\u2588\u2588\u2588\u2588\u2588\u2588\u2588\u2588\u2588\u2588\u2588\u2588\u2588\u2588\u2588\u2588\u2588\u2588\u2588\u2588\u2588\u2588\u2588\u2588\u2588\u2588\u2588\u2588\u2588\u2588\u2588| 419kB 7.7MB/s eta 0:00:01\n\u001b[?25hRequirement already satisfied: six in /opt/conda/envs/Python36/lib/python3.6/site-packages (from twilio) (1.12.0)\nRequirement already satisfied: pytz in /opt/conda/envs/Python36/lib/python3.6/site-packages (from twilio) (2018.9)\nCollecting PyJWT>=1.4.2 (from twilio)\n  Downloading https://files.pythonhosted.org/packages/87/8b/6a9f14b5f781697e51259d81657e6048fd31a113229cf346880bb7545565/PyJWT-1.7.1-py2.py3-none-any.whl\nRequirement already satisfied: requests>=2.0.0 in /opt/conda/envs/Python36/lib/python3.6/site-packages (from twilio) (2.21.0)\nRequirement already satisfied: idna<2.9,>=2.5 in /opt/conda/envs/Python36/lib/python3.6/site-packages (from requests>=2.0.0->twilio) (2.8)\nRequirement already satisfied: chardet<3.1.0,>=3.0.2 in /opt/conda/envs/Python36/lib/python3.6/site-packages (from requests>=2.0.0->twilio) (3.0.4)\nRequirement already satisfied: certifi>=2017.4.17 in /opt/conda/envs/Python36/lib/python3.6/site-packages (from requests>=2.0.0->twilio) (2020.4.5.1)\nRequirement already satisfied: urllib3<1.25,>=1.21.1 in /opt/conda/envs/Python36/lib/python3.6/site-packages (from requests>=2.0.0->twilio) (1.24.1)\nBuilding wheels for collected packages: twilio\n  Building wheel for twilio (setup.py) ... \u001b[?25ldone\n\u001b[?25h  Stored in directory: /home/dsxuser/.cache/pip/wheels/e6/14/12/e54011f7e5c75ca5d4ed4d275f5300837f9a733ed306259621\nSuccessfully built twilio\nInstalling collected packages: PyJWT, twilio\nSuccessfully installed PyJWT-1.7.1 twilio-6.39.0\n"
                }
            ],
            "source": "!pip install pandas\n!pip install beautifulsoup4\n!pip install twilio\n\nfrom twilio.rest import Client\nimport pandas as pd\nfrom datetime import datetime\nimport numpy as np\nimport bs4 as bs\nimport requests"
        },
        {
            "cell_type": "code",
            "execution_count": 11,
            "metadata": {},
            "outputs": [],
            "source": "def scrape_wiki():\n    \"\"\"Scrapes wikipedia information using Beautiful Soup. Returns the scheduled events table in html\"\"\"\n    wiki_link = 'https://en.wikipedia.org'\n    weblink = wiki_link + '/wiki/List_of_UFC_events'\n    response = requests.get(weblink)\n    soup = bs.BeautifulSoup(response.text, 'lxml')\n    scheduled_events = soup.find_all('table', {'class': 'wikitable'})[0]\n    return scheduled_events"
        },
        {
            "cell_type": "code",
            "execution_count": 29,
            "metadata": {},
            "outputs": [],
            "source": "def create_event_df(table):\n    \"\"\"Converts html sceduled events table into a dataframe\"\"\"\n    ufc_events = pd.read_html(str(table), header=0)[0]\n    ufc_events.drop(columns='Ref.', inplace=True)\n    ufc_events.rename(columns={'Unnamed: 2': 'Venue', 'Original Date': 'Date'}, inplace=True)\n    ufc_events['Days til event'] = None\n    # reformat hyperlinks if available\n    links = []\n    for row in table.find_all('tr')[1:]:\n        link = row.find_all('td')[0].contents[0]\n        try:\n            links.append(wiki_link + link.get('href'))\n        except:\n            links.append(\"no link\")\n    ufc_events['Fight Card Link'] = links\n    # fix date format\n    days = []\n    for index, row in ufc_events.iterrows():\n        old_date = row['Date']\n        new_date = datetime.strptime(old_date, '%b %d, %Y')\n        row['Days til event'] = (new_date-datetime.now()).days\n        row['Date'] = new_date.strftime('%d %b %Y')\n    return ufc_events"
        },
        {
            "cell_type": "code",
            "execution_count": 30,
            "metadata": {},
            "outputs": [
                {
                    "data": {
                        "text/html": "<div>\n<style scoped>\n    .dataframe tbody tr th:only-of-type {\n        vertical-align: middle;\n    }\n\n    .dataframe tbody tr th {\n        vertical-align: top;\n    }\n\n    .dataframe thead th {\n        text-align: right;\n    }\n</style>\n<table border=\"1\" class=\"dataframe\">\n  <thead>\n    <tr style=\"text-align: right;\">\n      <th></th>\n      <th>Event</th>\n      <th>Date</th>\n      <th>Venue</th>\n      <th>Location</th>\n      <th>Notes</th>\n      <th>Days til event</th>\n      <th>Fight Card Link</th>\n    </tr>\n  </thead>\n  <tbody>\n    <tr>\n      <th>8</th>\n      <td>UFC on ESPN: Smith vs. Teixeira</td>\n      <td>13 May 2020</td>\n      <td>VyStar Veterans Memorial Arena</td>\n      <td>Jacksonville, Florida, U.S.</td>\n      <td>Planned</td>\n      <td>7</td>\n      <td>https://en.wikipedia.org/wiki/UFC_on_ESPN:_Smi...</td>\n    </tr>\n    <tr>\n      <th>9</th>\n      <td>UFC 249: Ferguson vs. Gaethje</td>\n      <td>09 May 2020</td>\n      <td>VyStar Veterans Memorial Arena</td>\n      <td>Jacksonville, Florida, U.S.</td>\n      <td>Planned</td>\n      <td>3</td>\n      <td>https://en.wikipedia.org/wiki/UFC_249</td>\n    </tr>\n  </tbody>\n</table>\n</div>",
                        "text/plain": "                             Event         Date  \\\n8  UFC on ESPN: Smith vs. Teixeira  13 May 2020   \n9    UFC 249: Ferguson vs. Gaethje  09 May 2020   \n\n                            Venue                     Location    Notes  \\\n8  VyStar Veterans Memorial Arena  Jacksonville, Florida, U.S.  Planned   \n9  VyStar Veterans Memorial Arena  Jacksonville, Florida, U.S.  Planned   \n\n  Days til event                                    Fight Card Link  \n8              7  https://en.wikipedia.org/wiki/UFC_on_ESPN:_Smi...  \n9              3              https://en.wikipedia.org/wiki/UFC_249  "
                    },
                    "execution_count": 30,
                    "metadata": {},
                    "output_type": "execute_result"
                }
            ],
            "source": "scheduled_events = scrape_wiki()\nufc_events = create_event_df(scheduled_events)\nufc_events.tail(2)"
        },
        {
            "cell_type": "code",
            "execution_count": 32,
            "metadata": {},
            "outputs": [],
            "source": "def send_whatsapp(recipient, message_body):\n    \"\"\"Send next event info via Whatsapp using the Twilio API\"\"\"\n    message = client.messages.create(body=message_body,\n                                     from_='whatsapp:+',\n                                     to=recipient)\n    print(message.sid)"
        },
        {
            "cell_type": "code",
            "execution_count": 33,
            "metadata": {},
            "outputs": [
                {
                    "name": "stdout",
                    "output_type": "stream",
                    "text": "Your UFC 249: Ferguson vs. Gaethje (https://en.wikipedia.org/wiki/UFC_249) appointment is coming up on 09 May 2020.\nSM542669c5b8cb4f1993573147c70be4d8\n"
                }
            ],
            "source": "account_sid = '' # enter Twilio id\nauth_token = '' # enter Twilio token\nclient = Client(account_sid, auth_token)\njay = 'whatsapp:+' # enter recipients phone number in format 'whatsapp:+############'\n\nnext_ufc_event = ufc_events[ufc_events['Days til event'] < 6]\nif not next_ufc_event.shape[0] == 0:\n    event_name_and_card = next_ufc_event['Event'] + \" (\" + next_ufc_event['Fight Card Link'] + \")\"\n    message_body = 'Your {} appointment is coming up on {}.'.format(event_name_and_card.values[0], next_ufc_event['Date'].values[0])\n    print(message_body)\n    send_whatsapp(jay, message_body)"
        }
    ],
    "metadata": {
        "kernelspec": {
            "display_name": "Python 3.6",
            "language": "python",
            "name": "python3"
        },
        "language_info": {
            "codemirror_mode": {
                "name": "ipython",
                "version": 3
            },
            "file_extension": ".py",
            "mimetype": "text/x-python",
            "name": "python",
            "nbconvert_exporter": "python",
            "pygments_lexer": "ipython3",
            "version": "3.6.9"
        }
    },
    "nbformat": 4,
    "nbformat_minor": 2
}
