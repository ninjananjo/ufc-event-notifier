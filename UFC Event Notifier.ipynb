{
 "cells": [
  {
   "cell_type": "code",
   "execution_count": 1,
   "metadata": {},
   "outputs": [
    {
     "name": "stdout",
     "output_type": "stream",
     "text": [
      "Requirement already satisfied: pandas in c:\\users\\james\\anaconda3\\lib\\site-packages (0.24.2)\n",
      "Requirement already satisfied: python-dateutil>=2.5.0 in c:\\users\\james\\anaconda3\\lib\\site-packages (from pandas) (2.8.0)\n",
      "Requirement already satisfied: numpy>=1.12.0 in c:\\users\\james\\anaconda3\\lib\\site-packages (from pandas) (1.16.2)\n",
      "Requirement already satisfied: pytz>=2011k in c:\\users\\james\\anaconda3\\lib\\site-packages (from pandas) (2018.9)\n",
      "Requirement already satisfied: six>=1.5 in c:\\users\\james\\anaconda3\\lib\\site-packages (from python-dateutil>=2.5.0->pandas) (1.12.0)\n",
      "Requirement already satisfied: beautifulsoup4 in c:\\users\\james\\anaconda3\\lib\\site-packages (4.7.1)\n",
      "Requirement already satisfied: soupsieve>=1.2 in c:\\users\\james\\anaconda3\\lib\\site-packages (from beautifulsoup4) (1.8)\n"
     ]
    }
   ],
   "source": [
    "!pip install pandas\n",
    "!pip install beautifulsoup4\n",
    "\n",
    "import pandas as pd\n",
    "import numpy as np\n",
    "import bs4 as bs\n",
    "import requests"
   ]
  },
  {
   "cell_type": "code",
   "execution_count": 17,
   "metadata": {},
   "outputs": [],
   "source": [
    "weblink = 'https://en.wikipedia.org/wiki/List_of_UFC_events'\n",
    "response = requests.get(weblink)\n",
    "soup = bs.BeautifulSoup(response.text, 'lxml')\n",
    "table = soup.find_all('table', {'class':'wikitable'})[0]\n",
    "df = pd.read_html(str(table))[0]"
   ]
  },
  {
   "cell_type": "code",
   "execution_count": 40,
   "metadata": {},
   "outputs": [
    {
     "data": {
      "text/plain": [
       "[<a href=\"/wiki/UFC_on_ESPN%2B_23\" title=\"UFC on ESPN+ 23\">UFC on ESPN+ 23</a>,\n",
       " <a href=\"#cite_note-July-Dec2019-9\">[9]</a>,\n",
       " <a href=\"/wiki/UFC_245\" title=\"UFC 245\">UFC 245</a>,\n",
       " <a class=\"mw-redirect\" href=\"/wiki/Las_Vegas,_Nevada\" title=\"Las Vegas, Nevada\">Las Vegas, Nevada</a>,\n",
       " <a href=\"#cite_note-July-Dec2019-9\">[9]</a>,\n",
       " <a href=\"/wiki/UFC_on_ESPN_7\" title=\"UFC on ESPN 7\">UFC on ESPN 7</a>,\n",
       " <a href=\"#cite_note-July-Dec2019-9\">[9]</a>,\n",
       " <a href=\"/wiki/UFC_on_ESPN%2B_22\" title=\"UFC on ESPN+ 22\">UFC on ESPN+ 22</a>,\n",
       " <a href=\"#cite_note-July-Dec2019-9\">[9]</a>,\n",
       " <a href=\"/wiki/UFC_on_ESPN%2B_21\" title=\"UFC on ESPN+ 21\">UFC on ESPN+ 21</a>,\n",
       " <a href=\"/wiki/Gin%C3%A1sio_do_Ibirapuera\" title=\"Ginásio do Ibirapuera\">Ginásio do Ibirapuera</a>,\n",
       " <a href=\"/wiki/S%C3%A3o_Paulo\" title=\"São Paulo\">São Paulo</a>,\n",
       " <a href=\"#cite_note-ThreeEvents-10\">[10]</a>,\n",
       " <a href=\"/wiki/UFC_244\" title=\"UFC 244\">UFC 244</a>,\n",
       " <a href=\"/wiki/Madison_Square_Garden\" title=\"Madison Square Garden\">Madison Square Garden</a>,\n",
       " <a class=\"mw-redirect\" href=\"/wiki/New_York_City,_New_York\" title=\"New York City, New York\">New York City, New York</a>,\n",
       " <a href=\"#cite_note-July-Dec2019-9\">[9]</a>,\n",
       " <a href=\"/wiki/UFC_on_ESPN%2B_20\" title=\"UFC on ESPN+ 20\">UFC on ESPN+ 20</a>,\n",
       " <a href=\"#cite_note-July-Dec2019-9\">[9]</a>,\n",
       " <a href=\"/wiki/UFC_on_ESPN_6\" title=\"UFC on ESPN 6\">UFC on ESPN 6</a>,\n",
       " <a href=\"#cite_note-July-Dec2019-9\">[9]</a>,\n",
       " <a href=\"/wiki/UFC_on_ESPN%2B_19\" title=\"UFC on ESPN+ 19\">UFC on ESPN+ 19</a>,\n",
       " <a href=\"#cite_note-July-Dec2019-9\">[9]</a>,\n",
       " <a href=\"/wiki/UFC_243\" title=\"UFC 243\">UFC 243</a>,\n",
       " <a href=\"/wiki/Western_Sydney_Stadium\" title=\"Western Sydney Stadium\">Bankwest Stadium</a>,\n",
       " <a href=\"/wiki/Sydney\" title=\"Sydney\">Sydney</a>,\n",
       " <a href=\"#cite_note-ufc243-11\">[11]</a>,\n",
       " <a href=\"/wiki/UFC_on_ESPN%2B_18\" title=\"UFC on ESPN+ 18\">UFC on ESPN+ 18</a>,\n",
       " <a href=\"#cite_note-July-Dec2019-9\">[9]</a>,\n",
       " <a href=\"/wiki/UFC_on_ESPN%2B_17\" title=\"UFC on ESPN+ 17\">UFC on ESPN+ 17</a>,\n",
       " <a href=\"/wiki/Mexico_City_Arena\" title=\"Mexico City Arena\">Arena Ciudad de México</a>,\n",
       " <a href=\"/wiki/Mexico_City\" title=\"Mexico City\">Mexico City</a>,\n",
       " <a href=\"#cite_note-12\">[12]</a>,\n",
       " <a href=\"/wiki/UFC_Fight_Night_Amsterdam\" title=\"UFC Fight Night Amsterdam\">UFC on ESPN+ 16</a>,\n",
       " <a href=\"/wiki/Ziggo_Dome\" title=\"Ziggo Dome\">Ziggo Dome</a>,\n",
       " <a href=\"/wiki/Amsterdam\" title=\"Amsterdam\">Amsterdam</a>,\n",
       " <a href=\"#cite_note-13\">[13]</a>,\n",
       " <a href=\"/wiki/UFC_242\" title=\"UFC 242\">UFC 242</a>,\n",
       " <a class=\"mw-redirect\" href=\"/wiki/TBA\" title=\"TBA\">TBA</a>,\n",
       " <a href=\"/wiki/Abu_Dhabi\" title=\"Abu Dhabi\">Abu Dhabi</a>,\n",
       " <a href=\"#cite_note-ThreeEvents-10\">[10]</a>,\n",
       " <a href=\"/wiki/UFC_on_ESPN%2B_15\" title=\"UFC on ESPN+ 15\">UFC on ESPN+ 15</a>,\n",
       " <a href=\"/wiki/Shenzhen_Universiade_Sports_Centre\" title=\"Shenzhen Universiade Sports Centre\">Shenzhen Universiade Sports Centre</a>,\n",
       " <a class=\"mw-redirect\" href=\"/wiki/Shenzhen,_Guangdong\" title=\"Shenzhen, Guangdong\">Shenzhen, Guangdong</a>,\n",
       " <a href=\"#cite_note-ShenzhenFN-14\">[14]</a>,\n",
       " <a href=\"/wiki/UFC_241\" title=\"UFC 241\">UFC 241: Cormier vs. Miocic 2</a>,\n",
       " <a href=\"/wiki/Honda_Center\" title=\"Honda Center\">Honda Center</a>,\n",
       " <a href=\"/wiki/Anaheim,_California\" title=\"Anaheim, California\">Anaheim, California</a>,\n",
       " <a href=\"#cite_note-15\">[15]</a>,\n",
       " <a href=\"/wiki/UFC_on_ESPN%2B_14\" title=\"UFC on ESPN+ 14\">UFC on ESPN+ 14</a>,\n",
       " <a href=\"/wiki/Antel_Arena\" title=\"Antel Arena\">Antel Arena</a>,\n",
       " <a href=\"/wiki/Montevideo\" title=\"Montevideo\">Montevideo</a>,\n",
       " <a href=\"#cite_note-ThreeEvents-10\">[10]</a>,\n",
       " <a href=\"/wiki/UFC_on_ESPN_5\" title=\"UFC on ESPN 5\">UFC on ESPN 5</a>,\n",
       " <a href=\"#cite_note-July-Dec2019-9\">[9]</a>,\n",
       " <a href=\"/wiki/UFC_240\" title=\"UFC 240\">UFC 240</a>,\n",
       " <a href=\"/wiki/Rogers_Place\" title=\"Rogers Place\">Rogers Place</a>,\n",
       " <a class=\"mw-redirect\" href=\"/wiki/Edmonton,_Alberta\" title=\"Edmonton, Alberta\">Edmonton, Alberta</a>,\n",
       " <a href=\"#cite_note-July-Dec2019-9\">[9]</a>,\n",
       " <a href=\"/wiki/UFC_on_ESPN_4\" title=\"UFC on ESPN 4\">UFC on ESPN 4</a>,\n",
       " <a href=\"/wiki/AT%26T_Center\" title=\"AT&amp;T Center\">AT&amp;T Center</a>,\n",
       " <a class=\"mw-redirect\" href=\"/wiki/San_Antonio,_Texas\" title=\"San Antonio, Texas\">San Antonio, Texas</a>,\n",
       " <a href=\"#cite_note-July-Dec2019-9\">[9]</a>,\n",
       " <a href=\"/wiki/UFC_on_ESPN%2B_13\" title=\"UFC on ESPN+ 13\">UFC on ESPN+ 13</a>,\n",
       " <a href=\"/wiki/Golden_1_Center\" title=\"Golden 1 Center\">Golden 1 Center</a>,\n",
       " <a href=\"/wiki/Sacramento,_California\" title=\"Sacramento, California\">Sacramento, California</a>,\n",
       " <a href=\"#cite_note-16\">[16]</a>,\n",
       " <a href=\"/wiki/UFC_239\" title=\"UFC 239\">UFC 239: Jones vs. Santos</a>,\n",
       " <a href=\"/wiki/T-Mobile_Arena\" title=\"T-Mobile Arena\">T-Mobile Arena</a>,\n",
       " <a class=\"mw-redirect\" href=\"/wiki/Las_Vegas,_Nevada\" title=\"Las Vegas, Nevada\">Las Vegas, Nevada</a>,\n",
       " <a href=\"#cite_note-june/july-17\">[17]</a>,\n",
       " <a class=\"mw-redirect\" href=\"/wiki/UFC_on_ESPN_3\" title=\"UFC on ESPN 3\">UFC on ESPN: Ngannou vs. dos Santos</a>,\n",
       " <a href=\"/wiki/Target_Center\" title=\"Target Center\">Target Center</a>,\n",
       " <a class=\"mw-redirect\" href=\"/wiki/Minneapolis,_Minnesota\" title=\"Minneapolis, Minnesota\">Minneapolis, Minnesota</a>,\n",
       " <a href=\"#cite_note-june/july-17\">[17]</a>,\n",
       " <a href=\"/wiki/UFC_Fight_Night:_Moicano_vs._Korean_Zombie\" title=\"UFC Fight Night: Moicano vs. Korean Zombie\">UFC Fight Night: Moicano vs. Korean Zombie</a>,\n",
       " <a href=\"/wiki/Bon_Secours_Wellness_Arena\" title=\"Bon Secours Wellness Arena\">Bon Secours Wellness Arena</a>,\n",
       " <a href=\"/wiki/Greenville,_South_Carolina\" title=\"Greenville, South Carolina\">Greenville, South Carolina</a>,\n",
       " <a href=\"#cite_note-june/july-17\">[17]</a>,\n",
       " <a href=\"/wiki/UFC_238\" title=\"UFC 238\">UFC 238: Cejudo vs. Moraes</a>,\n",
       " <a href=\"/wiki/United_Center\" title=\"United Center\">United Center</a>,\n",
       " <a class=\"mw-redirect\" href=\"/wiki/Chicago,_Illinois\" title=\"Chicago, Illinois\">Chicago, Illinois</a>,\n",
       " <a href=\"#cite_note-18\">[18]</a>,\n",
       " <a href=\"/wiki/UFC_Fight_Night:_Gustafsson_vs._Smith\" title=\"UFC Fight Night: Gustafsson vs. Smith\">UFC Fight Night: Gustafsson vs. Smith</a>,\n",
       " <a href=\"/wiki/Ericsson_Globe\" title=\"Ericsson Globe\">Ericsson Globe</a>,\n",
       " <a href=\"/wiki/Stockholm\" title=\"Stockholm\">Stockholm</a>,\n",
       " <a href=\"#cite_note-19\">[19]</a>]"
      ]
     },
     "execution_count": 40,
     "metadata": {},
     "output_type": "execute_result"
    }
   ],
   "source": [
    "table.find_all('a')"
   ]
  },
  {
   "cell_type": "code",
   "execution_count": null,
   "metadata": {},
   "outputs": [],
   "source": []
  }
 ],
 "metadata": {
  "kernelspec": {
   "display_name": "Python 3",
   "language": "python",
   "name": "python3"
  },
  "language_info": {
   "codemirror_mode": {
    "name": "ipython",
    "version": 3
   },
   "file_extension": ".py",
   "mimetype": "text/x-python",
   "name": "python",
   "nbconvert_exporter": "python",
   "pygments_lexer": "ipython3",
   "version": "3.7.3"
  }
 },
 "nbformat": 4,
 "nbformat_minor": 2
}
